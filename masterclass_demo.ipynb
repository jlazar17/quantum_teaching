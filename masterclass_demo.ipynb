{
 "cells": [
  {
   "cell_type": "markdown",
   "metadata": {},
   "source": [
    "# Introduction to Quantum Computing with Neutrino Oscillation"
   ]
  },
  {
   "cell_type": "markdown",
   "metadata": {},
   "source": [
    "## Single Qubits"
   ]
  },
  {
   "cell_type": "markdown",
   "metadata": {},
   "source": [
    "$$\\newcommand{\\braket}[2]{\\left\\langle{#1}\\middle|{#2}\\right\\rangle}$$\n",
    "$$\\newcommand{\\bra}[1]{\\left\\langle{#1}\\right|}$$\n",
    "$$\\newcommand{\\ket}[1]{\\left|\\,{#1}\\right\\rangle}$$\n",
    "Quantum computing involves operating on quantum states which can take on two different values when measured. In analogy to classical bits, we usually label the two values 0 and 1. It is convenient to label these states using vectors:\n",
    "\n",
    "$$\n",
    "\\ket{0}=\n",
    "\\begin{pmatrix}\n",
    "1 \\\\0\n",
    "\\end{pmatrix};\\,\n",
    "\\ket{1}=\n",
    "\\begin{pmatrix}\n",
    "0 \\\\ 1\n",
    "\\end{pmatrix}\n",
    "$$\n",
    "\n",
    "In contrast with classical bits, qubits can be in a combination of states before being measured. In this case, we will measure 0 or 1 with some probability. Let us consider a general qubit state $\\ket{q}$:\n",
    "$$\n",
    "\\ket{q} = \n",
    "\\begin{pmatrix}\n",
    "a \\\\ b\n",
    "\\end{pmatrix}\n",
    "$$\n",
    "\n",
    "In this case, when we measure $\\ket{q}$, we will get 0 with probability $a^{2}$ and 1 with probability $b^{2}$. Since we can only measure 0 or 1, and the probability of getting *something* must be 1, we find that $a^{2}+b^{2}=1$.\n",
    "\n",
    "This is very technical, but let us try to gain some intuition for qubits and operations."
   ]
  },
  {
   "cell_type": "markdown",
   "metadata": {},
   "source": [
    "We can visualize our states as living on a *Bloch Sphere*. On this sphere, the north pole is the $\\ket{0}$ state, and the south pole is the $\\ket{1}$ state. The operations that we can perform with a quantum computer move the state around the rest of the sphere."
   ]
  },
  {
   "cell_type": "code",
   "execution_count": 30,
   "metadata": {},
   "outputs": [],
   "source": [
    "## Bloch sphere visualizations"
   ]
  },
  {
   "cell_type": "markdown",
   "metadata": {},
   "source": [
    "## Multiple qubits"
   ]
  },
  {
   "cell_type": "code",
   "execution_count": 32,
   "metadata": {},
   "outputs": [],
   "source": [
    "## More Bloch sphere visualizations but now showing how things can get complicated\n",
    "## Maybe a discussion of unitarity being probability (length) conserving"
   ]
  },
  {
   "cell_type": "markdown",
   "metadata": {},
   "source": [
    "## Neutrino oscillations"
   ]
  },
  {
   "cell_type": "markdown",
   "metadata": {},
   "source": [
    "Earlier today we discussed neutrino oscillations in which a neutrino that starts as one type may change into another as it moves through space. Like the operations we perform on a qubit, the transformation from flavor-basis to mass-basis and time-evolution are unitary operations, and so it is natural that we may try to perform neutrino oscillations on a quantum computer. The question then becomes \"how do we represent these transformations in the language of quantum computing?\"\n",
    "\n",
    "To begin, we will demonstrate how to do this in the simplified two-neutrino case. In this scenario, the neutrino mass- and flavor-bases are related in the following manner.\n",
    "\n",
    "$$\n",
    "\\begin{pmatrix}\n",
    "\\nu_{e} \\\\ \\nu_{\\mu}\n",
    "\\end{pmatrix}\n",
    "=\n",
    "\\begin{pmatrix}\n",
    "\\cos\\theta & -\\sin\\theta \\\\ \\sin\\theta & \\cos\\theta\n",
    "\\end{pmatrix}\n",
    "\\begin{pmatrix}\n",
    "\\nu_{1} \\\\ \\nu_{2}\n",
    "\\end{pmatrix}\n",
    "$$\n",
    "\n",
    "We may further recall that the most general operation that we can write on a qubit, the $U_{3}$ operation, is given by:\n",
    "\n",
    "$$\n",
    "U_{3}\\left(\\Theta,\\Phi,\\Psi\\right)\n",
    "=\n",
    "\\begin{pmatrix}\n",
    "\\cos\\frac{\\Theta}{2} & -e^{i\\Phi}\\sin\\frac{\\Theta}{2} \\\\\n",
    "e^{i\\Psi}\\sin\\frac{\\Theta}{2} & e^{i(\\Phi+\\Psi)}\\cos\\frac{\\Theta}{2}\n",
    "\\end{pmatrix}\n",
    "$$\n",
    "\n",
    "If we take $\\Theta=2\\theta$, $\\Phi=\\Psi=0$, we get:\n",
    "\n",
    "$$\n",
    "U_{3}\\left(2\\theta,0,0\\right) =\n",
    "\\begin{pmatrix}\n",
    "\\cos\\theta & -\\sin\\theta \\\\ \\sin\\theta & \\cos\\theta\n",
    "\\end{pmatrix}\n",
    "$$\n",
    "\n",
    "And thus we are able to recover the PMNS matrix! The time evolution operator is given by:\n",
    "\n",
    "$$\n",
    "\\begin{pmatrix}\n",
    "0&0\\\\0&e^{i\\frac{\\Delta m^2}{2E}t}\n",
    "\\end{pmatrix}\n",
    "$$\n",
    "\n",
    "If we choose $\\Theta=\\Psi=0$ and $\\Phi=\\frac{\\Delta m^2}{2E}t$, we get:\n",
    "\n",
    "$$\n",
    "U_{3}\\left(0, \\frac{\\Delta m^2}{2E}t, 0\\right) =\n",
    "\\begin{pmatrix}\n",
    "0&0\\\\0&e^{i\\frac{\\Delta m^2}{2E}t}\n",
    "\\end{pmatrix}\n",
    "$$\n",
    "\n",
    "And we are once again able to recover our desired matrix!"
   ]
  },
  {
   "cell_type": "code",
   "execution_count": 42,
   "metadata": {},
   "outputs": [],
   "source": [
    "from qiskit import QuantumRegister, ClassicalRegister, QuantumCircuit, Aer, execute"
   ]
  },
  {
   "cell_type": "markdown",
   "metadata": {},
   "source": [
    "### Make quantum circuit for one time and draw it"
   ]
  },
  {
   "cell_type": "code",
   "execution_count": 160,
   "metadata": {},
   "outputs": [
    {
     "data": {
      "text/html": [
       "<pre style=\"word-wrap: normal;white-space: pre;background: #fff0;line-height: 1.1;font-family: &quot;Courier New&quot;,Courier,monospace\">          ┌──────────────┐┌──────────────┐┌─────────────┐┌─┐\n",
       "q33719_0: ┤ U(-2π/9,0,0) ├┤ U(0,12500,0) ├┤ U(2π/9,0,0) ├┤M├\n",
       "          └──────────────┘└──────────────┘└─────────────┘└╥┘\n",
       "c10315: 1/════════════════════════════════════════════════╩═\n",
       "                                                          0 </pre>"
      ],
      "text/plain": [
       "          ┌──────────────┐┌──────────────┐┌─────────────┐┌─┐\n",
       "q33719_0: ┤ U(-2π/9,0,0) ├┤ U(0,12500,0) ├┤ U(2π/9,0,0) ├┤M├\n",
       "          └──────────────┘└──────────────┘└─────────────┘└╥┘\n",
       "c10315: 1/════════════════════════════════════════════════╩═\n",
       "                                                          0 "
      ]
     },
     "execution_count": 160,
     "metadata": {},
     "output_type": "execute_result"
    }
   ],
   "source": [
    "# TODO: direct them to actual numbers\n",
    "mixing_angle = np.radians(20)\n",
    "Delta_m      = 1.0e6 # Arbitrary units\n",
    "E            = 20 # GeV\n",
    "\n",
    "# Make a one qubit quantum register\n",
    "qreg = QuantumRegister(1)\n",
    "# Make a one bit classical register that we will read results on\n",
    "creg = ClassicalRegister(1)\n",
    "# Make a quantum circuit\n",
    "qc   = QuantumCircuit(qreg, creg)\n",
    "qc.u(-2*mixing_angle,0,0, qreg) # PMNS dagger\n",
    "qc.u(0, 0.5*Delta_m/(2*E), 0, qreg)\n",
    "qc.u(2*mixing_angle, 0, 0, qreg)\n",
    "qc.measure(qreg, creg)\n",
    "qc.draw()"
   ]
  },
  {
   "cell_type": "markdown",
   "metadata": {},
   "source": [
    "### Plot the results for different times"
   ]
  },
  {
   "cell_type": "code",
   "execution_count": 158,
   "metadata": {},
   "outputs": [],
   "source": [
    "tt      = np.linspace(0, 2, 200) # Arbitrary units\n",
    "results = np.zeros(len(tt))\n",
    "n_runs  = 1000\n",
    "\n",
    "for i,t in enumerate(tt):\n",
    "    # Make a one qubit quantum register\n",
    "    qreg = qiskit.QuantumRegister(1)\n",
    "    # Make a one bit classical register that we will read results on\n",
    "    creg = qiskit.ClassicalRegister(1)\n",
    "    # Make a quantum circuit\n",
    "    qc   = qiskit.QuantumCircuit(qreg, creg)\n",
    "    qc.u(-2*mixing_angle,0,0, qreg) # PMNS dagger\n",
    "    qc.u(0, t*Delta_m/(2*E), 0, qreg)\n",
    "    qc.u(2*mixing_angle, 0, 0, qreg)\n",
    "    qc.measure(qreg, creg)\n",
    "    job    = execute(qc, Aer.get_backend('qasm_simulator'), shots=n_runs) # Run it n_runs times on a simulator\n",
    "    counts = job.result().get_counts(qc)\n",
    "    try:\n",
    "        results[i] = counts['1']/float(n_runs)\n",
    "    except KeyError:\n",
    "        results[i] = 0."
   ]
  },
  {
   "cell_type": "code",
   "execution_count": 159,
   "metadata": {},
   "outputs": [
    {
     "data": {
      "image/png": "[encoded data removed]",
      "text/plain": [
       "<Figure size 504x360 with 1 Axes>"
      ]
     },
     "metadata": {
      "needs_background": "light"
     },
     "output_type": "display_data"
    }
   ],
   "source": [
    "# TODO move into function. Add lines from classical calc\n",
    "fig, ax = plt.subplots(figsize=(7,5))\n",
    "\n",
    "ax.scatter(tt, 1-results, label=r'$P_{\\nu_{e}}}$', zorder=10)\n",
    "ax.scatter(tt, results, label=r'$P_{\\nu_{\\mu}}}$', zorder=10)\n",
    "plt.xticks([0,0.5,1,1.5,2], fontsize=17)\n",
    "plt.yticks([0,0.2,0.4,0.6,0.8,1,], fontsize=17)\n",
    "ax.set_xlim(0, 2)\n",
    "ax.set_ylim(0,1.1)\n",
    "# ax.axhline(1, lw=3, alpha=0.2, zorder=1, color='k')\n",
    "plt.legend(ncol=2, fontsize=22, bbox_to_anchor=(0.16,1))\n",
    "plt.show()"
   ]
  },
  {
   "cell_type": "code",
   "execution_count": null,
   "metadata": {},
   "outputs": [],
   "source": []
  }
 ],
 "metadata": {
  "kernelspec": {
   "display_name": "Python 3",
   "language": "python",
   "name": "python3"
  },
  "language_info": {
   "codemirror_mode": {
    "name": "ipython",
    "version": 3
   },
   "file_extension": ".py",
   "mimetype": "text/x-python",
   "name": "python",
   "nbconvert_exporter": "python",
   "pygments_lexer": "ipython3",
   "version": "3.8.5"
  }
 },
 "nbformat": 4,
 "nbformat_minor": 4
}
